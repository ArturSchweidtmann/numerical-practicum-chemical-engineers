{
 "cells": [
  {
   "cell_type": "markdown",
   "id": "8097202d",
   "metadata": {},
   "source": [
    "# Project-1: Solving Reaction-Diffusion Systems in the Persuit of Turing Patterns "
   ]
  },
  {
   "cell_type": "markdown",
   "id": "9626a33b",
   "metadata": {},
   "source": [
    "What is our goal? \n",
    "\n",
    "The goal of this project is to solve reaction-diffusion systems. We will use the Brusselator model as an example. Many other examples of similar models, however, do exist. The Brusselator model is a model for two species that can be formulated in three ways. First, as a system of two coupled ordinary differential equations. Secondly as a systems of two coupled partial differential equations in one dimension (x). And finally as a systems of two coupled partial differential equations in two dimensions (x and y). Examples of an implementations include [as ODE](https://en.wikipedia.org/wiki/Brusselator) and as PDE in two dimensions [in Python using py-pde](https://py-pde.readthedocs.io/en/latest/examples_gallery/pde_brusselator_expression.html) and  [in Julia using DifferentialEquations.jl](https://diffeq.sciml.ai/stable/tutorials/advanced_ode_example/).  We expect to recover Turing patterns in the numerical solution as shown on the above wiki page. \n",
    "\n",
    "The goal of this project is to reproduce the above examples, understand the implementation, understand the numerical solution obtained and extend the Brusselator model to other examples (variation of the same homework assignment). \n",
    "\n",
    "Relevant component of ANM-2021 include the spatial discretization of the 1D and 2D diffusion equation, the linearization of the non-linear terms and the implicit methods for time integration.  \n",
    "\n",
    "We expect to go through the following stages: \n",
    "1. spatial discretization of the linear diffusion operator using second order central finite differences on uniform meshes in 1D and 2D subject to various boundary conditions; \n",
    "2. spatial discretization of the non-linear reaction terms by collocation;\n",
    "3. linearization by computating exact Jacobians (or otherwise);\n",
    "4. implicit time integration using a variable time step set by imposing the accuracy of the time integration (settings for atol and rtol);"
   ]
  },
  {
   "cell_type": "markdown",
   "id": "84348980",
   "metadata": {},
   "source": [
    "## Section 1/: Introduction and Model Description"
   ]
  },
  {
   "cell_type": "markdown",
   "id": "39d86584",
   "metadata": {},
   "source": [
    "Describe the Brusselator model as ODE (see wiki), a PDE in one spatial dimensions [see here](https://rveltz.github.io/BifurcationKit.jl/dev/tutorials/tutorials3/#d-Brusselator-(automatic)) (possiby better references do exist) and as PDE in two spatial dimensions (see above, and book by Hairer and Wannes Part 2).  "
   ]
  },
  {
   "cell_type": "markdown",
   "id": "e0d94535",
   "metadata": {},
   "source": [
    "## Section 2/: Brusselator model as ODE "
   ]
  },
  {
   "cell_type": "markdown",
   "id": "7ee62f53",
   "metadata": {},
   "source": [
    "Work out examples on wiki using implicit time integration. Give physical interpretation. "
   ]
  },
  {
   "cell_type": "markdown",
   "id": "0036d122",
   "metadata": {},
   "source": [
    "## Section 3/: Brusselator model as PDE in 1D "
   ]
  },
  {
   "cell_type": "markdown",
   "id": "5451d425",
   "metadata": {},
   "source": [
    "Add non-linear terms to two copies of the Poisson-1D matrix (see ANM-2021 Python introduction), perform implicit time integration. "
   ]
  },
  {
   "cell_type": "markdown",
   "id": "4af00b43",
   "metadata": {},
   "source": [
    "## Section 4/: Brusselator model as PDE in 2D "
   ]
  },
  {
   "cell_type": "markdown",
   "id": "341c1273",
   "metadata": {},
   "source": [
    "Add non-linear terms to two copies of the Poisson-2D matrix (see ANM-2021 Python introduction), perform implicit time integration. "
   ]
  },
  {
   "cell_type": "markdown",
   "id": "75044cd0",
   "metadata": {},
   "source": [
    "## Section 5/: Other Models "
   ]
  },
  {
   "cell_type": "markdown",
   "id": "8ae834db",
   "metadata": {},
   "source": [
    "Repeat above for Fisher equation, Kolmogorov-Petrovsky-Piskunov equation, Oregonator model, Schnakenberg model, Gray-Scott model and FitzHugh–Nagumo model; "
   ]
  },
  {
   "cell_type": "markdown",
   "id": "b81ec120",
   "metadata": {},
   "source": [
    "## References \n",
    "\n",
    "To be extended. \n",
    "\n",
    "Ref-1: Guiu-Souto, Jacobo, et al. \"Manipulation of diffusion coefficients via periodic vertical forcing controls the mechanism of Turing pattern formation.\" Physical Review E 82.6 (2010): 066209 [https://journals.aps.org/pre/pdf/10.1103/PhysRevE.82.066209?casa_token=StWd8LAlg18AAAAA%3AVcXU45U2oSxFH8C4juSzSK2PsMNAEcZ3BvqrpdqF9NUXjJPL5H5NuTTGZ0MZsZrsAoxIAu21NjX0]\n",
    "\n",
    "Ref-2: Guiu-Souto, Jacobo, Jorge Carballido-Landeira, and Alberto P. Munuzuri. \"Characterizing topological transitions in a Turing-pattern-forming reaction-diffusion system.\" Physical Review E 85.5 (2012): 056205. [https://journals.aps.org/pre/abstract/10.1103/PhysRevE.85.056205]"
   ]
  },
  {
   "cell_type": "markdown",
   "id": "16e30ebc",
   "metadata": {},
   "source": []
  },
  {
   "cell_type": "code",
   "execution_count": null,
   "id": "1fb5a165",
   "metadata": {},
   "outputs": [],
   "source": []
  },
  {
   "cell_type": "code",
   "execution_count": null,
   "id": "1f5604af",
   "metadata": {},
   "outputs": [],
   "source": []
  }
 ],
 "metadata": {
  "kernelspec": {
   "display_name": "Python 3",
   "language": "python",
   "name": "python3"
  },
  "language_info": {
   "codemirror_mode": {
    "name": "ipython",
    "version": 3
   },
   "file_extension": ".py",
   "mimetype": "text/x-python",
   "name": "python",
   "nbconvert_exporter": "python",
   "pygments_lexer": "ipython3",
   "version": "3.7.10"
  }
 },
 "nbformat": 4,
 "nbformat_minor": 5
}
