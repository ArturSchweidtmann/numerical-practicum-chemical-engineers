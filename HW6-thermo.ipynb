{
 "cells": [
  {
   "cell_type": "markdown",
   "metadata": {},
   "source": [
    "# Numerical Practicum: HW6 \n",
    "## Engineering Thermodynamics "
   ]
  },
  {
   "cell_type": "code",
   "execution_count": 1,
   "metadata": {},
   "outputs": [
    {
     "name": "stdout",
     "output_type": "stream",
     "text": [
      "Succesfully imported numpy -- Version: 1.17.2\n",
      "Succesfully imported scipy -- Version: 1.3.1\n",
      "Succesfully imported matplotlib.pyplot\n",
      "Succesfully imported pandas -- Version: 0.25.1\n",
      "Succesfully imported scipy.optimize\n",
      "Succesfully imported solve_ivp\n"
     ]
    }
   ],
   "source": [
    "import numpy as np\n",
    "print(\"Succesfully imported %s -- Version: %s\"%(np.__name__,np.__version__))\n",
    "import scipy\n",
    "print(\"Succesfully imported %s -- Version: %s\"%(scipy.__name__,scipy.__version__))\n",
    "import matplotlib.pyplot as plt\n",
    "print(\"Succesfully imported %s\"%plt.__name__)\n",
    "import pandas as pd\n",
    "print(\"Succesfully imported %s -- Version: %s\"%(pd.__name__,pd.__version__))\n",
    "from sympy import symbols\n",
    "from scipy import optimize\n",
    "print(\"Succesfully imported %s\"%optimize.__name__)\n",
    "import numpy as np\n",
    "from scipy.integrate import solve_ivp\n",
    "print(\"Succesfully imported %s\"%solve_ivp.__name__)"
   ]
  },
  {
   "cell_type": "markdown",
   "metadata": {},
   "source": [
    "First Paragraph: \n",
    "\n",
    "Anna: Debye and Einstein models for crystals: The students are provided with experimental low temperature Cp data and they have to write a code in python to fit the data with a Debye and Einstein model. Subsequently they have to derive the entropy at 298 K. This project requires the use of Python and thus knowledge from the ANM course; \n",
    "\n",
    "Domenico: data? Can data be provided as an Excell sheet, CVS format, data frame or any other format?does \n",
    "\n",
    "Domenico: linear regression suffice here? how to deal with outliers? perform interpolation and extrapolation? computate confidence intervals for the data? \n",
    "\n",
    "Domenico: Debye and Einstein model? using predefined polynomial or other basis functions? linear or non-linear least squares fit? "
   ]
  },
  {
   "cell_type": "markdown",
   "metadata": {},
   "source": [
    "Second Paragraph: \n",
    "\n",
    "Anna: CALPHAD modelling of liquids: The students are provided with a starting thermodynamic model for a system that is not optimized, together with experimental data. They have to optimize the Gibbs energy interaction parameters to fit as best as possible the experimental data on the system. This requires the use of the FactSage software (license available at RST);  \n",
    "\n",
    "Domenico: optimize? using least squares cost functional? optimization method? search direction computation? regularization? uniqueness of the answer? \n",
    "\n",
    "Domenico: data? Excell/CVS/data-frame/other? \n",
    "\n",
    "Domenico: CALPHAD and FactSage: what functionality is required (see wikki)? Can it be replaced by public domain tool (e.g. OpenCalphad or PyCalphad)? "
   ]
  },
  {
   "cell_type": "markdown",
   "metadata": {},
   "source": [
    "Third Paragraph: \n",
    "\n",
    "Anna: Thermodynamic properties of liquids from RDF: The students are provided with RDF data, and they have to write a python code to derive coordination numbers and thermodynamic data. This project requires the use of Python and thus knowledge from the ANM course.\n",
    "\n",
    "Domenico: data? Excell/CVS/data-frame/other? \n",
    "\n",
    "Domenico: RDF? "
   ]
  },
  {
   "cell_type": "markdown",
   "metadata": {},
   "source": [
    "Fourth Paragraph:\n",
    "\n",
    "Anna: Molecular simulations of liquids/gases: The students are provided with MD models and should derive thermodynamic properties\n",
    "\n",
    "Domenico: please provide more details. Are these non-linear least squares problems?"
   ]
  },
  {
   "cell_type": "code",
   "execution_count": null,
   "metadata": {},
   "outputs": [],
   "source": []
  }
 ],
 "metadata": {
  "kernelspec": {
   "display_name": "Python 3",
   "language": "python",
   "name": "python3"
  },
  "language_info": {
   "codemirror_mode": {
    "name": "ipython",
    "version": 3
   },
   "file_extension": ".py",
   "mimetype": "text/x-python",
   "name": "python",
   "nbconvert_exporter": "python",
   "pygments_lexer": "ipython3",
   "version": "3.7.10"
  }
 },
 "nbformat": 4,
 "nbformat_minor": 4
}
