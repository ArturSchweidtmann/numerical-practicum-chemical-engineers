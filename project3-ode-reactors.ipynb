{
 "cells": [
  {
   "cell_type": "markdown",
   "metadata": {},
   "source": [
    "# Project-3: Reactions, Chemical Kinectics, Non-Linear Least-Squares and Convolution Neural Networks "
   ]
  },
  {
   "cell_type": "markdown",
   "metadata": {},
   "source": [
    "What is our goal?\n",
    "\n",
    "The goal of this project is to consider a model of a system ordinary differential equations that represents a chemical reactor (something easy to start with, the Brusselator model from Project-1, an auto-catalytic reaction or a combustor with synthetic fuel or otherwise). For this model, we will consider two types of models.\n",
    "\n",
    "The forward model consists of assuming the chemical reaction parameters to be known (tabulated, given). With this data, the evolution of the chemical species as a function of time can be computed. \n",
    "\n",
    "The inverse (backward) model consists of recovering the chemical reaction parameters from two components: the first is the forward model and the second is the measured data. The reaction parameters can be recovered by solving a non-linear least squares problem in which the mismatch (discrepancy) between measured and simulated values is minimized.\n",
    "\n",
    "Our goal here is to solve the non-linear least-squares problem using a convolutional neural network (among other approaches). \n",
    "\n",
    "The example [blog page on the use of fluxdiffeq](https://julialang.org/blog/2019/01/fluxdiffeq/) will be used as a demonstration of what is currently possible (despite it being develop in Julia). \n",
    "\n",
    "We will require functionality that allows to compute the sensitivity of the solution of the ODE system (typically mass fraction) wrt changes in the parameters (typically reaction kinectics). Such functionality is available e.g. in Cantera, as shown in this example [sensivity computation in Cantera](https://cantera.org/examples/python/reactors/sensitivity1.py.html). Domenico wonders whether similar is available elsewhere.  "
   ]
  },
  {
   "cell_type": "markdown",
   "metadata": {},
   "source": [
    "## Section 1/: Introduction and Model Description"
   ]
  },
  {
   "cell_type": "markdown",
   "metadata": {},
   "source": [
    "Describe problem, solution approach and references to examples. "
   ]
  },
  {
   "cell_type": "markdown",
   "metadata": {},
   "source": [
    " ## Section 2:/ Forward Model: Time-Integration of a System of Coupled ODEs"
   ]
  },
  {
   "cell_type": "markdown",
   "metadata": {},
   "source": [
    "Describe forward-time integration for the mass fraction of the species. (Does Python provide functionality to represent model parameters?)"
   ]
  },
  {
   "cell_type": "markdown",
   "metadata": {},
   "source": [
    "## Section 3/: Forward Model: Sensitivity of Solution wrt Model Parameters "
   ]
  },
  {
   "cell_type": "markdown",
   "metadata": {},
   "source": [
    "Describe how to compute sensitivity in the forward model with respect to changes in the model parameters (chemical reaction kinectics). Can sensitivity of mass fraction wrt the model parameters be computed?  "
   ]
  },
  {
   "cell_type": "markdown",
   "metadata": {},
   "source": [
    "## Section 4/: Inverse Model Formulation and Sensivity "
   ]
  },
  {
   "cell_type": "markdown",
   "metadata": {},
   "source": [
    "Describe least-squares fit between model and measured data. Describe gradient of least-squares functional wrt model parameters. "
   ]
  },
  {
   "cell_type": "markdown",
   "metadata": {},
   "source": [
    "## Section 5/: Inverse Model Solve using Classical Derivatived-Based Methods"
   ]
  },
  {
   "cell_type": "markdown",
   "metadata": {},
   "source": [
    "More later. "
   ]
  },
  {
   "cell_type": "markdown",
   "metadata": {},
   "source": [
    "## Section 6/:  Inverse Model Solve using Convolutional Neural Networks "
   ]
  },
  {
   "cell_type": "markdown",
   "metadata": {},
   "source": [
    "More later. "
   ]
  },
  {
   "cell_type": "markdown",
   "metadata": {},
   "source": [
    "## References  "
   ]
  },
  {
   "cell_type": "markdown",
   "metadata": {},
   "source": [
    "1. [wiki on autocatalysis](https://en.wikipedia.org/wiki/Autocatalysis)  \n",
    "2. [wiki on Levenberg-Marquard algorithm](https://en.wikipedia.org/wiki/Levenberg–Marquardt_algorithm)  \n",
    "3. [blog page on the use of fluxdiffeq](https://julialang.org/blog/2019/01/fluxdiffeq/)"
   ]
  },
  {
   "cell_type": "code",
   "execution_count": null,
   "metadata": {},
   "outputs": [],
   "source": []
  }
 ],
 "metadata": {
  "kernelspec": {
   "display_name": "Julia 1.6.2",
   "language": "julia",
   "name": "julia-1.6"
  },
  "language_info": {
   "file_extension": ".jl",
   "mimetype": "application/julia",
   "name": "julia",
   "version": "1.6.2"
  }
 },
 "nbformat": 4,
 "nbformat_minor": 2
}
