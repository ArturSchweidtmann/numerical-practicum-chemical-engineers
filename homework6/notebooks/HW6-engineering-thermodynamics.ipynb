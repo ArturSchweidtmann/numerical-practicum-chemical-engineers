{
 "cells": [
  {
   "cell_type": "markdown",
   "id": "8097202d",
   "metadata": {},
   "source": [
    "# HW6: Engineering Thermodynamics "
   ]
  },
  {
   "cell_type": "markdown",
   "id": "9626a33b",
   "metadata": {},
   "source": [
    "What is our goal? \n",
    "\n",
    "To be defined. "
   ]
  },
  {
   "cell_type": "markdown",
   "id": "48616c9f",
   "metadata": {},
   "source": [
    "## Import Libraries"
   ]
  },
  {
   "cell_type": "code",
   "execution_count": 2,
   "id": "c6f395c0",
   "metadata": {},
   "outputs": [
    {
     "name": "stdout",
     "output_type": "stream",
     "text": [
      "Succesfully imported numpy -- Version: 1.20.1\n",
      "Succesfully imported scipy -- Version: 1.6.2\n",
      "Succesfully imported matplotlib.pyplot\n",
      "Succesfully imported pandas -- Version: 1.2.4\n",
      "Succesfully imported sympy -- Version: 1.8\n",
      "Succesfully imported scipy.optimize\n",
      "Succesfully imported fsolve\n",
      "Succesfully imported find_peaks\n",
      "Succesfully imported orth\n",
      "Succesfully imported odeint\n"
     ]
    }
   ],
   "source": [
    "import numpy as np\n",
    "print(\"Succesfully imported %s -- Version: %s\"%(np.__name__,np.__version__))\n",
    "import scipy\n",
    "print(\"Succesfully imported %s -- Version: %s\"%(scipy.__name__,scipy.__version__))\n",
    "import matplotlib.pyplot as plt\n",
    "print(\"Succesfully imported %s\"%plt.__name__)\n",
    "import pandas as pd\n",
    "print(\"Succesfully imported %s -- Version: %s\"%(pd.__name__,pd.__version__))\n",
    "import sympy as sym \n",
    "print(\"Succesfully imported %s -- Version: %s\"%(sym.__name__,sym.__version__))\n",
    "from scipy import optimize\n",
    "print(\"Succesfully imported %s\"%optimize.__name__)\n",
    "from scipy.optimize import fsolve\n",
    "print(\"Succesfully imported %s\"%fsolve.__name__)\n",
    "from scipy.signal import find_peaks\n",
    "print(\"Succesfully imported %s\"%find_peaks.__name__)\n",
    "from scipy.linalg import orth\n",
    "print(\"Succesfully imported %s\"%orth.__name__)\n",
    "from scipy.integrate import odeint\n",
    "print(\"Succesfully imported %s\"%odeint.__name__)"
   ]
  },
  {
   "cell_type": "markdown",
   "id": "84348980",
   "metadata": {},
   "source": [
    "## Section 1/: Conversation Anna/Domenico/Bijoy "
   ]
  },
  {
   "cell_type": "markdown",
   "id": "39d86584",
   "metadata": {},
   "source": [
    "Part (1/4)\n",
    "\n",
    "Anna: Debye and Einstein models for crystals: The students are provided with experimental low temperature Cp data and they have to write a code in python to fit the data with a Debye and Einstein model. Subsequently they have to derive the entropy at 298 K. This project requires the use of Python and thus knowledge from the ANM course.\n",
    "\n",
    "Domenico: data? Can data be provided as an Excell sheet, CVS format, data frame or any other format?\\\n",
    "\n",
    "Domenico: does linear regression suffice here? how to deal with outliers? perform interpolation and extrapolation? computate confidence intervals for the data? \n",
    "\n",
    "Domenico: Debye and Einstein model? using predefined polynomial or other basis functions? linear or non-linear least squares fit? \n",
    "\n",
    "Domenico: entropy: how to compute? "
   ]
  },
  {
   "cell_type": "markdown",
   "id": "cd40e27e",
   "metadata": {},
   "source": [
    "Part (2/4)\n",
    "\n",
    "Anna: CALPHAD modelling of liquids: The students are provided with a starting thermodynamic model for a system that is not optimized, together with experimental data. They have to optimize the Gibbs energy interaction parameters to fit as best as possible the experimental data on the system. This requires the use of the FactSage software (license available at RST).\n",
    "\n",
    "Domenico: optimize? using least squares cost functional? optimization method? search direction computation? regularization? uniqueness of the answer?  \n",
    "\n",
    "Domenico: data? Excell/CVS/data-frame/other? \n",
    "\n",
    "Domenico: CALPHAD and FactSage: what functionality is required (see wikki)? Can it be replaced by public domain tool (e.g. OpenCalphad or PyCalphad)?"
   ]
  },
  {
   "cell_type": "markdown",
   "id": "eda75704",
   "metadata": {},
   "source": [
    "Part (3/4)\n",
    "\n",
    "Anna: Thermodynamic properties of liquids from RDF: The students are provided with RDF data, and they have to write a python code to derive coordination numbers and thermodynamic data. This project requires the use of Python and thus knowledge from the ANM course.\n",
    "\n",
    "Domenico: data? Excell/CVS/data-frame/other? RDF? "
   ]
  },
  {
   "cell_type": "markdown",
   "id": "e5f82eee",
   "metadata": {},
   "source": [
    "Part (4/4)\n",
    "\n",
    "Anna: molecular simulations of liquids/gases: The students are provided with MD models and should derive thermodynamic properties\n",
    "\n",
    "Domenico: please provide more details. What kind of MD models? Similar to Grozema? How should results of MD simulations be post-processed to obtain relevant results? Are these non-linear least squares problems? Examples or tutorials?  \n",
    "\n"
   ]
  },
  {
   "cell_type": "markdown",
   "id": "b81ec120",
   "metadata": {},
   "source": [
    "## References \n",
    "\n",
    "To be extended.\n",
    "\n",
    "1. [wikki on Computational_thermodynamics]() : interesting for the links it provides; \n",
    "2. [wiki on Calphad](https://en.wikipedia.org/wiki/CALPHAD) \n",
    "3. [PyCalphad](https://pycalphad.org/docs/latest/)\n",
    "4. [OpenCalphad](http://www.opencalphad.com)"
   ]
  }
 ],
 "metadata": {
  "kernelspec": {
   "display_name": "Python 3",
   "language": "python",
   "name": "python3"
  },
  "language_info": {
   "codemirror_mode": {
    "name": "ipython",
    "version": 3
   },
   "file_extension": ".py",
   "mimetype": "text/x-python",
   "name": "python",
   "nbconvert_exporter": "python",
   "pygments_lexer": "ipython3",
   "version": "3.7.10"
  }
 },
 "nbformat": 4,
 "nbformat_minor": 5
}
