{
 "cells": [
  {
   "cell_type": "markdown",
   "id": "8097202d",
   "metadata": {},
   "source": [
    "# HW6: Engineering Thermodynamics "
   ]
  },
  {
   "cell_type": "markdown",
   "id": "9626a33b",
   "metadata": {},
   "source": [
    "What is our goal? \n",
    "\n",
    "Ouyr goals is to make three tutorial examples [PyCalphad](https://pycalphad.org/docs/latest/) available as a homeworks assignment. \n",
    "\n",
    "To be defined. "
   ]
  },
  {
   "cell_type": "markdown",
   "id": "48616c9f",
   "metadata": {},
   "source": [
    "## Import Libraries"
   ]
  },
  {
   "cell_type": "code",
   "execution_count": 1,
   "id": "c6f395c0",
   "metadata": {},
   "outputs": [
    {
     "name": "stdout",
     "output_type": "stream",
     "text": [
      "Succesfully imported numpy -- Version: 1.20.1\n",
      "Succesfully imported scipy -- Version: 1.6.2\n",
      "Succesfully imported matplotlib.pyplot\n",
      "Succesfully imported pandas -- Version: 1.2.4\n",
      "Succesfully imported sympy -- Version: 1.8\n",
      "Succesfully imported scipy.optimize\n",
      "Succesfully imported fsolve\n",
      "Succesfully imported find_peaks\n",
      "Succesfully imported orth\n",
      "Succesfully imported odeint\n"
     ]
    }
   ],
   "source": [
    "import numpy as np\n",
    "print(\"Succesfully imported %s -- Version: %s\"%(np.__name__,np.__version__))\n",
    "import scipy\n",
    "print(\"Succesfully imported %s -- Version: %s\"%(scipy.__name__,scipy.__version__))\n",
    "import matplotlib.pyplot as plt\n",
    "print(\"Succesfully imported %s\"%plt.__name__)\n",
    "import pandas as pd\n",
    "print(\"Succesfully imported %s -- Version: %s\"%(pd.__name__,pd.__version__))\n",
    "import sympy as sym \n",
    "print(\"Succesfully imported %s -- Version: %s\"%(sym.__name__,sym.__version__))\n",
    "from scipy import optimize\n",
    "print(\"Succesfully imported %s\"%optimize.__name__)\n",
    "from scipy.optimize import fsolve\n",
    "print(\"Succesfully imported %s\"%fsolve.__name__)\n",
    "from scipy.signal import find_peaks\n",
    "print(\"Succesfully imported %s\"%find_peaks.__name__)\n",
    "from scipy.linalg import orth\n",
    "print(\"Succesfully imported %s\"%orth.__name__)\n",
    "from scipy.integrate import odeint\n",
    "print(\"Succesfully imported %s\"%odeint.__name__)"
   ]
  },
  {
   "cell_type": "markdown",
   "id": "84348980",
   "metadata": {},
   "source": [
    "## Section 1/: Conversation Anna/Domenico/Bijoy "
   ]
  },
  {
   "cell_type": "markdown",
   "id": "39d86584",
   "metadata": {},
   "source": [
    "Part (1/4)\n",
    "\n",
    "Anna: Debye and Einstein models for crystals: The students are provided with experimental low temperature Cp data and they have to write a code in python to fit the data with a Debye and Einstein model. Subsequently they have to derive the entropy at 298 K. This project requires the use of Python and thus knowledge from the ANM course.\n",
    "\n",
    "Domenico: data? Can data be provided as an Excell sheet, CVS format, data frame or any other format?\\\n",
    "\n",
    "Domenico: does linear regression suffice here? how to deal with outliers? perform interpolation and extrapolation? computate confidence intervals for the data? \n",
    "\n",
    "Domenico: Debye and Einstein model? using predefined polynomial or other basis functions? linear or non-linear least squares fit? \n",
    "\n",
    "Domenico: entropy: how to compute? "
   ]
  },
  {
   "cell_type": "markdown",
   "id": "cd40e27e",
   "metadata": {},
   "source": [
    "Part (2/4)\n",
    "\n",
    "Anna: CALPHAD modelling of liquids: The students are provided with a starting thermodynamic model for a system that is not optimized, together with experimental data. They have to optimize the Gibbs energy interaction parameters to fit as best as possible the experimental data on the system. This requires the use of the FactSage software (license available at RST).\n",
    "\n",
    "Domenico: optimize? using least squares cost functional? optimization method? search direction computation? regularization? uniqueness of the answer?  \n",
    "\n",
    "Domenico: data? Excell/CVS/data-frame/other? \n",
    "\n",
    "Domenico: CALPHAD and FactSage: what functionality is required (see wikki)? Can it be replaced by public domain tool (e.g. OpenCalphad or PyCalphad)?"
   ]
  },
  {
   "cell_type": "markdown",
   "id": "eda75704",
   "metadata": {},
   "source": [
    "Part (3/4)\n",
    "\n",
    "Anna: Thermodynamic properties of liquids from RDF: The students are provided with RDF data, and they have to write a python code to derive coordination numbers and thermodynamic data. This project requires the use of Python and thus knowledge from the ANM course.\n",
    "\n",
    "Domenico: data? Excell/CVS/data-frame/other? RDF? "
   ]
  },
  {
   "cell_type": "markdown",
   "id": "e5f82eee",
   "metadata": {},
   "source": [
    "Part (4/4)\n",
    "\n",
    "Anna: molecular simulations of liquids/gases: The students are provided with MD models and should derive thermodynamic properties\n",
    "\n",
    "Domenico: please provide more details. What kind of MD models? Similar to Grozema? How should results of MD simulations be post-processed to obtain relevant results? Are these non-linear least squares problems? Examples or tutorials?  \n",
    "\n"
   ]
  },
  {
   "cell_type": "code",
   "execution_count": null,
   "id": "a04da076",
   "metadata": {},
   "outputs": [],
   "source": []
  },
  {
   "cell_type": "markdown",
   "id": "b4536cab",
   "metadata": {},
   "source": [
    "## Section 2:/ Forward Model "
   ]
  },
  {
   "cell_type": "markdown",
   "id": "0cb89926",
   "metadata": {},
   "source": [
    "The code that follows was taken from [notebook.community](https://notebook.community/hwagit/jupyter-notebooks/mod-phase-trans-metals-alloys/tmt4260_exercise1)."
   ]
  },
  {
   "cell_type": "code",
   "execution_count": 14,
   "id": "71c1464e",
   "metadata": {},
   "outputs": [],
   "source": [
    "R = 8.314472  # [J/(mol K)]\n",
    "theta_ECu = 244  # [K]\n",
    "theta_DCu = 315  # [K]\n",
    "\n",
    "\n",
    "def debye_integrand(x):\n",
    "    return x**4*(np.exp(x)/(np.exp(x) - 1)**2)\n",
    "\n",
    "\n",
    "def heat_capacity(T, theta, model='debye'):\n",
    "    if model=='debye':\n",
    "        C_V = [9*R*(i/theta)**3*scipy.integrate.quad(debye_integrand, 0, theta/i)[0] for i in T]\n",
    "    else:\n",
    "        C_V = [3*R*(theta/i)**2*(np.exp(theta/i)/(np.exp(theta/i) - 1)**2) for i in T]\n",
    "    return C_V"
   ]
  },
  {
   "cell_type": "code",
   "execution_count": 15,
   "id": "570878c1",
   "metadata": {},
   "outputs": [],
   "source": [
    "C_V_exp = np.array([3.74, 6.14, 8.58, 10.83, 12.80, 14.49, 15.91, 18.11, 19.65, 20.78, 21.59,\n",
    "                    22.23, 22.72, 23.07, 23.36, 23.58, 23.74, 24.02, 24.23, 24.44, 24.58,\n",
    "                    24.70, 24.79, 24.87, 24.94, 25.03, 25.15, 25.30, 25.57, 25.98, 26.22,\n",
    "                    26.80])\n",
    "T_exp = np.array([40, 50, 60, 70, 80, 90, 100, 120, 140, 160, 180, 200, 220, 240, 260, 280,\n",
    "                  300, 350, 400, 450, 500, 550, 600, 650, 700, 800, 900, 1000, 1100, 1200,\n",
    "                  1250, 1300])\n",
    "\n",
    "# Declare T values from 20 to 400\n",
    "T = np.linspace(20, 400, 400 - 20 + 1)\n",
    "threeR = np.full(len(T), 3*R)"
   ]
  },
  {
   "cell_type": "code",
   "execution_count": 16,
   "id": "0774ab5a",
   "metadata": {},
   "outputs": [],
   "source": [
    "C_V_E = heat_capacity(T, theta_ECu, model='einstein')\n",
    "C_V_D = heat_capacity(T, theta_DCu)"
   ]
  },
  {
   "cell_type": "code",
   "execution_count": 17,
   "id": "fad38295",
   "metadata": {},
   "outputs": [
    {
     "data": {
      "text/plain": [
       "<matplotlib.legend.Legend at 0x7f9938bcc510>"
      ]
     },
     "execution_count": 17,
     "metadata": {},
     "output_type": "execute_result"
    },
    {
     "data": {
      "image/png": "[encoded data removed]",
      "text/plain": [
       "<Figure size 432x288 with 1 Axes>"
      ]
     },
     "metadata": {
      "needs_background": "light"
     },
     "output_type": "display_data"
    }
   ],
   "source": [
    "fig, ax = plt.subplots()\n",
    "ax.plot(T, threeR, '--', label='$3R$')\n",
    "ax.plot(T, C_V_D, '--', label='Debye')\n",
    "ax.plot(T, C_V_E, label='Einstein')\n",
    "ax.plot(T_exp[:19], C_V_exp[:19], 'o', label='White & Collocott (1984)')\n",
    "ax.set_xlabel('$T$ [K]')\n",
    "ax.set_ylabel('$C_\\mathrm{V}$ [J mol$^{-1}$ K$^{-1}$]')\n",
    "ax.legend()"
   ]
  },
  {
   "cell_type": "markdown",
   "id": "792104c9",
   "metadata": {},
   "source": [
    "## Section 3:/ Least-Squares Fit "
   ]
  },
  {
   "cell_type": "code",
   "execution_count": null,
   "id": "de211d5f",
   "metadata": {},
   "outputs": [],
   "source": [
    "# compute mismatch between model and data at time instance  \n",
    "def fun(x, t, y):\n",
    "     return x[0] + x[1] * np.exp(x[2] * t) - y\n",
    "\n",
    "x0 = np.array([1.0, 1.0, 0.0])"
   ]
  },
  {
   "cell_type": "code",
   "execution_count": null,
   "id": "96a21fff",
   "metadata": {},
   "outputs": [],
   "source": [
    "res_lsq = scipy.optimize.least_squares(fun, x0, args=(t_train, y_train),verbose=2)"
   ]
  },
  {
   "cell_type": "markdown",
   "id": "b81ec120",
   "metadata": {},
   "source": [
    "## References \n",
    "\n",
    "To be extended.\n",
    "\n",
    "1. [wikki on Computational_thermodynamics](https://en.wikipedia.org/wiki/Computational_thermodynamics) : interesting for the links it provides; \n",
    "2. [wiki on Calphad](https://en.wikipedia.org/wiki/CALPHAD) \n",
    "3. [PyCalphad](https://pycalphad.org/docs/latest/)\n",
    "4. [OpenCalphad](http://www.opencalphad.com)"
   ]
  },
  {
   "cell_type": "code",
   "execution_count": null,
   "id": "a18ef6fc",
   "metadata": {},
   "outputs": [],
   "source": []
  }
 ],
 "metadata": {
  "kernelspec": {
   "display_name": "Python 3",
   "language": "python",
   "name": "python3"
  },
  "language_info": {
   "codemirror_mode": {
    "name": "ipython",
    "version": 3
   },
   "file_extension": ".py",
   "mimetype": "text/x-python",
   "name": "python",
   "nbconvert_exporter": "python",
   "pygments_lexer": "ipython3",
   "version": "3.7.10"
  }
 },
 "nbformat": 4,
 "nbformat_minor": 5
}
