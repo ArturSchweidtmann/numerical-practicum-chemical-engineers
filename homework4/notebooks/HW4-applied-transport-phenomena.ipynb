{
 "cells": [
  {
   "cell_type": "markdown",
   "id": "8097202d",
   "metadata": {},
   "source": [
    "# HW4: Applied Transport Phenomena  "
   ]
  },
  {
   "cell_type": "markdown",
   "id": "9626a33b",
   "metadata": {},
   "source": [
    "What is our goal? \n",
    "\n",
    "Solve various forms of the convection-diffusion equation. Possible even add a reaction term; \n",
    "\n",
    "We expect to go through the following stages: \n",
    "1. extend 1D (only x) diffusion equation (HW1) to the convection-diffusion equation; \n",
    "2. extend linear convection (prescribed(u) times ux) to non-linear convection-diffusion (u times ux); \n",
    "3. extend from 1D (only x) to 2D (both x and y);\n",
    "4. extend from stationary (time independent) to transient (time dependent); \n",
    "5. extend from single component (only u(x) or u(x,y)) to (both u(x,y) and v(x,y)); (potential flow, Stokes, laminar Navier-Stokes); "
   ]
  },
  {
   "cell_type": "markdown",
   "id": "48616c9f",
   "metadata": {},
   "source": [
    "## Import Libraries"
   ]
  },
  {
   "cell_type": "code",
   "execution_count": 2,
   "id": "c6f395c0",
   "metadata": {},
   "outputs": [
    {
     "name": "stdout",
     "output_type": "stream",
     "text": [
      "Succesfully imported numpy -- Version: 1.20.1\n",
      "Succesfully imported scipy -- Version: 1.6.2\n",
      "Succesfully imported matplotlib.pyplot\n",
      "Succesfully imported pandas -- Version: 1.2.4\n",
      "Succesfully imported sympy -- Version: 1.8\n",
      "Succesfully imported scipy.optimize\n",
      "Succesfully imported fsolve\n",
      "Succesfully imported find_peaks\n",
      "Succesfully imported orth\n",
      "Succesfully imported odeint\n"
     ]
    }
   ],
   "source": [
    "import numpy as np\n",
    "print(\"Succesfully imported %s -- Version: %s\"%(np.__name__,np.__version__))\n",
    "import scipy\n",
    "print(\"Succesfully imported %s -- Version: %s\"%(scipy.__name__,scipy.__version__))\n",
    "import matplotlib.pyplot as plt\n",
    "print(\"Succesfully imported %s\"%plt.__name__)\n",
    "import pandas as pd\n",
    "print(\"Succesfully imported %s -- Version: %s\"%(pd.__name__,pd.__version__))\n",
    "import sympy as sym \n",
    "print(\"Succesfully imported %s -- Version: %s\"%(sym.__name__,sym.__version__))\n",
    "from scipy import optimize\n",
    "print(\"Succesfully imported %s\"%optimize.__name__)\n",
    "from scipy.optimize import fsolve\n",
    "print(\"Succesfully imported %s\"%fsolve.__name__)\n",
    "from scipy.signal import find_peaks\n",
    "print(\"Succesfully imported %s\"%find_peaks.__name__)\n",
    "from scipy.linalg import orth\n",
    "print(\"Succesfully imported %s\"%orth.__name__)\n",
    "from scipy.integrate import odeint\n",
    "print(\"Succesfully imported %s\"%odeint.__name__)"
   ]
  },
  {
   "cell_type": "markdown",
   "id": "84348980",
   "metadata": {},
   "source": [
    "## Section 1/: Introduction and Model Description"
   ]
  },
  {
   "cell_type": "markdown",
   "id": "39d86584",
   "metadata": {},
   "source": [
    "Describe the Brusselator model as ODE (see wiki), a PDE in one spatial dimensions [see here](https://rveltz.github.io/BifurcationKit.jl/dev/tutorials/tutorials3/#d-Brusselator-(automatic)) (possiby better references do exist) and as PDE in two spatial dimensions (see above, and book by Hairer and Wannes Part 2).  "
   ]
  },
  {
   "cell_type": "markdown",
   "id": "e0d94535",
   "metadata": {},
   "source": [
    "## Section 2/: Convection-Diffusion Equation in 1D"
   ]
  },
  {
   "cell_type": "markdown",
   "id": "7ee62f53",
   "metadata": {},
   "source": [
    "### Section 2.1/: Problem statement \n",
    "\n",
    "We aim at solving the convection-diffusion equation on the interval $0 \\leq x \\leq 1$. Our objective is to numerically approximate the function $u(x)$ that is the solution of the following problem.\n",
    "\n",
    "\\begin{equation}\n",
    " -ε\\frac{\\text{d}^2u}{\\text{d}x^2}+\\frac{\\text{d}u}{\\text{d}x} = 0 \\tag{1}\n",
    "\\end{equation}\n",
    "\n",
    "where the first term will be referred to as the \"diffusion term\" and the second one will be referred to as the \"convective term\". \n",
    "\n",
    "Given the small positive number  $ε > 0$, find the function $u(x)$ that is the solution of the differential equation written above, supplied with the following non-homogeneous Dirichlet boundary condition in $x = 0$ and homogeneous Dirichlet boundary condition in $x = 1$:\n",
    "\n",
    "\\begin{equation}\n",
    " u(x=0)=1  \\text{          and         }  u(x=1)=0 \\tag{2}\n",
    "\\end{equation}\n",
    "\n",
    "Compared to the tutorial of this week, we now added a convective term and set the source term equal zero. The latter was done to simplify matters for the time being. The number $ε$ is the relative weight of the diffusion\n",
    "and the convective term in the differential equation. The number $ε$ plays an important role in the practice of a computational chemical engineer. It will reappear in later courses under the aliases such as the Peclet or\n",
    "Reynolds number. The solution $u(x)$ clearly depends on the value of $ε$.\n",
    "\n",
    "#### Analytical Reference Solution \n",
    "The differential equation $(1)$ supplied with the boundary conditions $(2)$\n",
    "can be solved analytically by first supposing that u(x) = exp(r x), solving the characteristic equation $-ε r^2 +r = 0$ for $r$, setting $u(x) = C_{1} exp(r_{1} x)+C_{2} exp(r_{2} x)$ and using the boundary conditions to find\n",
    "$C_{1}$ and $C_{2}$. Doing so, one finds the solution:\n",
    "\n",
    "\n",
    "\\begin{equation}\n",
    " u(x)=\\frac{\\exp (x/ε)-\\exp (1/ε)}{1-\\exp (1/ε)} \\tag{3}\n",
    "\\end{equation}"
   ]
  },
  {
   "cell_type": "markdown",
   "id": "4c9f7b00",
   "metadata": {},
   "source": [
    "#### Assignment 1\n",
    "\n",
    "First, verify that the function $u(x)$ given by $(3)$ indeed satisfies the differential equation $(1)$ and the boundary conditions $(2)$. Please do so using pen and paper (touch screen?). The use of a symbolic\n",
    "manipulation toolbox is too elaborate for this purpose. Next, plot the function $u(x)$ as a function of $x$ for $0 < x < 1$ by avoiding for-loops in Python. Compare different values for $ε$ using for instance $ε = 1/10$,\n",
    "$ε = 1/50$ and $ε = 1/100$. Give a physical interpretation for the way in which $u(x)$ changes with $ε$."
   ]
  },
  {
   "cell_type": "code",
   "execution_count": 3,
   "id": "375ec786",
   "metadata": {},
   "outputs": [
    {
     "name": "stdout",
     "output_type": "stream",
     "text": [
      "U(x) changes into a sharper step function with decreasing e-values.\n"
     ]
    },
    {
     "data": {
      "image/png": "[encoded data removed]",
      "text/plain": [
       "<Figure size 432x288 with 1 Axes>"
      ]
     },
     "metadata": {
      "needs_background": "light"
     },
     "output_type": "display_data"
    }
   ],
   "source": [
    "# First I define the function and the necessary variables\n",
    "def u(x,e):\n",
    "    F = (np.exp(x/e)-np.exp(1/e))/(1-np.exp(1/e))\n",
    "    return F\n",
    "e1 = 0.1\n",
    "e2 = 1/50\n",
    "e3 = 1/100\n",
    "x = np.linspace(0,1,300)\n",
    "\n",
    "# Then I plot the figures\n",
    "plt.figure()\n",
    "plt.plot(x, u(x,e1), label = 'e = 1/10')\n",
    "plt.plot(x, u(x,e2), label = 'e = 1/50')\n",
    "plt.plot(x, u(x,e3), label = 'e = 1/100')\n",
    "plt.xlabel('x')\n",
    "plt.ylabel('u(x)')\n",
    "plt.title('Solution for u(x) for different values of e')\n",
    "plt.legend(loc = 3)\n",
    "\n",
    "print('U(x) changes into a sharper step function with decreasing e-values.')"
   ]
  },
  {
   "cell_type": "markdown",
   "id": "3be85752",
   "metadata": {},
   "source": [
    "### Section 1.2:/ Finite Difference Solution\n",
    "Next we proceed with the finite difference approximation.\n",
    "\n",
    "#### Mesh \n",
    "Assume that the interval $0 < x < 1$ is discretized by an uniform mesh consisting of $N$ elements with mesh width $h = 1=N$ and vertices $x_{i} = (i-1)h$, where $i$ runs from 1 to $N + 1$. This enumeration includes the end points of the interval, that is, $x_{1} = 0$ and $x_{N+1} = 1$. The grid nodes can then be denoted by\n",
    "\n",
    "\\begin{equation}\n",
    " G_h=\\Bigg({x_{i}|x_{i}=(i-1)h; h=\\frac{1}{N}, 1\\leq i \\leq N+1}\\Bigg) \\tag{4}\n",
    "\\end{equation}\n",
    "\n",
    "\n",
    "Let $u^{h}$ denote the vector with $N+1$ components such its $i$-th component $u^{h}_{i}$ approximates the exact solution $u(x)$ in the $i$-th node.\n",
    "\n",
    "#### Discretization of the diffusion term in the interior nodes\n",
    "The differential equation holds in particular for all of the internal nodes, that is, we have that\n",
    "\n",
    "\\begin{equation}\n",
    " -ε\\frac{\\text{d}^2u}{\\text{d}x^2}\\Bigg|_{x=x_{i}}+\\frac{\\text{d}u}{\\text{d}x}\\Bigg|_{x=x_{i}} = 0 \\text{  for all  } 2\\leq i \\leq N    \\tag{5}\n",
    "\\end{equation}\n",
    "\n",
    "\n",
    "To approximate the diffusion term, we proceed as in the tutorial and use a finite difference formula to discretize the second derivative $\\frac{\\text{d}^2u}{\\text{d}x^2}\\Bigg|_{x=x_{i}} = u''(x_{i})$ as follows\n",
    "\n",
    "\\begin{equation}\n",
    " u''(x_{i})\\approx\\frac{u'(x_{i}+h/2)-u'(x_{i}-h/2)}{h}    \\tag{6}\n",
    "\\end{equation}\n",
    "\n",
    "\n",
    "\\begin{equation}\n",
    " u''(x_{i})\\approx\\frac{u(x_{i+1})-2u(x_{i})+u(x_{i-1})}{h^2}    \n",
    "\\end{equation}\n",
    "\n",
    "(Using Taylor polynomials it can be shown that the local truncation error is of second order in $h$). The finite difference discretization thus leads to the following stencil for the approximation of $-ε\\frac{\\text{d}^2u}{\\text{d}x^2}\\Bigg|_{x=x_{i}}$ (beware of the minus-sign and the factor $-ε$)\n",
    "\n",
    "\\begin{equation}\n",
    " \\frac{1}{h^2}\\Bigg[\\begin{matrix}-ε &  2ε & -ε\\\\ x_{i-1} & x_{i} & x_{i+1} \\end{matrix}\\Bigg]       \\text{[central approximation for difussion]} \\tag{7}\n",
    "\\end{equation}\n",
    "\n",
    "\n",
    "This stencil implies that each node $x_{i}$ is coupled to its left ($x_{i-1}$) and right neighbour ($x_{i+1}$) with a weight of $-\\frac{ε}{h^2}$.\n",
    "\n",
    "\n",
    "#### Discretization of the convection term in the interior nodes \n",
    "\n",
    "The convective term can be approximated in two ways. The first option is to use a central approximation on neighboring nodes\n",
    "\n",
    "\\begin{equation}\n",
    " u'(x_{i})\\approx\\frac{u(x_{i+1})-u(x_{i-1})}{2h}   \\tag{8} \n",
    "\\end{equation}\n",
    "\n",
    "leading to the stencil\n",
    "\n",
    "\\begin{equation}\n",
    " \\frac{1}{2h}\\Bigg[\\begin{matrix}-1 &  0 & 1\\\\ x_{i-1} & x_{i} & x_{i+1} \\end{matrix}\\Bigg]       \\text{[central approximation for convection]} \\tag{9}\n",
    "\\end{equation}\n",
    "\n",
    "\n",
    "(The local approximation error of this scheme is of second order in $h$. This second order comes however at an expensive that we discover later in this assignment.) The second option is to approximate the first order\n",
    "derivative using the backward finite difference approximation\n",
    "\n",
    "\n",
    "\\begin{equation}\n",
    " u'(x_{i})\\approx\\frac{u(x_{i})-u(x_{i-1})}{h}   \\tag{10} \n",
    "\\end{equation}\n",
    "\n",
    "In this approximation information in $x_{i-1}$ is used to approximate the derivative in $x_{i}$. In this exercise the convective term propagates information from the left to the right. The node $x_{i-1}$  thus lies upstream from $x_{i}$. The above finite difference approximation is therefore referred to as the upwind approximation. This approximation leads to the stencil\n",
    "\n",
    "\n",
    "\\begin{equation}\n",
    " \\frac{1}{h}\\Bigg[\\begin{matrix}-1 & 1 & 0\\\\ x_{i-1} & x_{i} & x_{i+1} \\end{matrix}\\Bigg]       \\text{[upwind approximation for convection]} \\tag{11}\n",
    "\\end{equation}\n",
    "\n",
    "(The local approximation of this scheme is only of first order in h. Despite this lower order of accuracy, this scheme has a distinct advantage that we will discover later in this assignment.) The stencil of the diffusive and the convective term should be added to obtain the stencil for the coefficient matrix $A^h$ corresponding to the finite difference scheme.\n",
    "\n",
    "#### Discretization in the left and right boundary condition \n",
    "Verify that the Dirichlet boundary condition in the left and right end point can be enforced by requiring that\n",
    "\n",
    "\\begin{equation}\n",
    " u_{1}=1 \\text{          and that         }       u_{N+1}=0  \\tag{12}\n",
    "\\end{equation}\n",
    "\n",
    "The finite difference stencil in the left and right end point thus reduces to\n",
    "\n",
    "\\begin{equation}\n",
    " \\Bigg[\\begin{matrix}1 & 0 & 0\\\\ x_{1} & x_{2} & x_{3} \\end{matrix}\\Bigg]   \\text{          and         }    \\Bigg[\\begin{matrix}0 & 0 & 1\\\\ x_{N-1} & x_{N} & x_{N+1} \\end{matrix}\\Bigg] \\tag{13}\n",
    "\\end{equation}\n",
    "\n",
    "The non-homogeneous contribution in the left boundary condition (the term equal to 1) will be placed in the first component of the right-hand vector. The other components of this right-hand vector will remain equal to one."
   ]
  },
  {
   "cell_type": "markdown",
   "id": "da122b92",
   "metadata": {},
   "source": [
    "#### Assignment 2 \n",
    "\n",
    "Assume $h = 1/3$ (and thus $N=3$) and $ε = 0.5$. Assume that the central difference scheme $(8)$ is used to approximate the convective term in $(1)$. Determine the size of the global matrix $A^h$ and the global right-hand vector $f$. Give all the elements of this matrix and vector with pen (or pencil) and paper."
   ]
  },
  {
   "cell_type": "code",
   "execution_count": 4,
   "id": "02c22531",
   "metadata": {},
   "outputs": [
    {
     "name": "stdout",
     "output_type": "stream",
     "text": [
      "The global matrix A is:\n",
      "[[ 1.  0.  0.  0.]\n",
      " [-6.  9. -3.  0.]\n",
      " [ 0. -6.  9. -3.]\n",
      " [ 0.  0.  0.  1.]]\n",
      "and its size is: 16\n",
      "\n",
      "The global right-hand vector is:\n",
      "[1. 0. 0. 0.]\n",
      "with size: 4\n"
     ]
    }
   ],
   "source": [
    "# First I define the necessary variables\n",
    "e = 1/2\n",
    "h = 1/3\n",
    "x = np.linspace(0, 1, 4)\n",
    "f = np.zeros(4)\n",
    "f[0] = 1\n",
    "\n",
    "# The convection term using central difference scheme\n",
    "c1 = 1/(2*h)*np.diag(np.ones(3), k = 1)\n",
    "c2 = -1/(2*h)*np.diag(np.ones(3), k = -1)\n",
    "\n",
    "# The diffusion term \n",
    "d1 = -e/(h**2)*np.diag(np.ones(3), k = 1)\n",
    "d2 = -e/(h**2)*np.diag(np.ones(3), k = -1)\n",
    "d3 = 2*e/(h**2)*np.diag(np.ones(4))\n",
    "\n",
    "# The global matrix\n",
    "A = c1 + c2 + d1 + d2 + d3\n",
    "A[0,0] = 1\n",
    "A[0,1] = 0\n",
    "A[-1,-1] = 1\n",
    "A[-1,-2] = 0\n",
    "\n",
    "# Lastly I print the results\n",
    "print('The global matrix A is:')\n",
    "print(A) \n",
    "print('and its size is:', np.size(A))\n",
    "print('')\n",
    "print('The global right-hand vector is:')\n",
    "print(f)\n",
    "print('with size:', np.size(f))"
   ]
  },
  {
   "cell_type": "markdown",
   "id": "a5ae9208",
   "metadata": {},
   "source": [
    "#### Assignment 3 \n",
    "\n",
    "As previous assignment, this time using the upwind scheme to approximate the convective term in $(1)$."
   ]
  },
  {
   "cell_type": "code",
   "execution_count": 5,
   "id": "a3147693",
   "metadata": {},
   "outputs": [
    {
     "name": "stdout",
     "output_type": "stream",
     "text": [
      "The global matrix A is:\n",
      "[[ 1.   0.   0.   0. ]\n",
      " [-7.5 12.  -4.5  0. ]\n",
      " [ 0.  -7.5 12.  -4.5]\n",
      " [ 0.   0.   0.   1. ]]\n",
      "and its size is: 16\n",
      "\n",
      "The global right-hand vector is:\n",
      "[1. 0. 0. 0.]\n",
      "with size: 4\n"
     ]
    }
   ],
   "source": [
    "# First I define the necessary variables\n",
    "e = 1/2\n",
    "h = 1/3\n",
    "x = np.linspace(0, 1, 4)\n",
    "f = np.zeros(4)\n",
    "f[0] = 1\n",
    "\n",
    "# The convection term using upwind scheme\n",
    "c1 = 1/h*np.diag(np.ones(4), k = 0)\n",
    "c2 = -1/h*np.diag(np.ones(3), k = -1)\n",
    "\n",
    "# The diffusion term \n",
    "d1 = -e/(h**2)*np.diag(np.ones(3), k = 1)\n",
    "d2 = -e/(h**2)*np.diag(np.ones(3), k = -1)\n",
    "d3 = 2*e/(h**2)*np.diag(np.ones(4))\n",
    "\n",
    "# The global matrix\n",
    "A = c1 + c2 + d1 + d2 + d3\n",
    "A[0,0] = 1\n",
    "A[0,1] = 0\n",
    "A[-1,-1] = 1\n",
    "A[-1,-2] = 0\n",
    "\n",
    "# Print the results\n",
    "print('The global matrix A is:')\n",
    "print(A) \n",
    "print('and its size is:', np.size(A))\n",
    "print('')\n",
    "print('The global right-hand vector is:')\n",
    "print(f)\n",
    "print('with size:', np.size(f))"
   ]
  },
  {
   "cell_type": "markdown",
   "id": "7c69fc5e",
   "metadata": {},
   "source": [
    "#### Assignment 4\n",
    "\n",
    "Assume $ε = 1/100$ and that the central difference scheme $(8)$ is used to approximate the convective term in $(1)$. Assemble for $h = 1/10$, $h = 1/20$ and $h = 1/100$ the global matrix $A^h$ and the\n",
    "global right-hand vector $f^h$. Solve the linear system\n",
    "\n",
    "\\begin{equation}\n",
    " A^h u^h = f^h   \\tag{14} \n",
    "\\end{equation}\n",
    "\n",
    "\n",
    "using the numpy.linalg.solve() function. Plot the various solution for $u^h$ found and compare this plot with the plot of the exact solution in Part 1."
   ]
  },
  {
   "cell_type": "code",
   "execution_count": 6,
   "id": "a65bbb29",
   "metadata": {},
   "outputs": [
    {
     "name": "stdout",
     "output_type": "stream",
     "text": [
      "The higher the N-value the more similar to the exact solution the approximation becomes\n"
     ]
    },
    {
     "data": {
      "image/png": "[encoded data removed]",
      "text/plain": [
       "<Figure size 432x288 with 1 Axes>"
      ]
     },
     "metadata": {
      "needs_background": "light"
     },
     "output_type": "display_data"
    }
   ],
   "source": [
    "# First I define the function I'll use and the necessary variables\n",
    "def u(x):\n",
    "    F = (np.exp(x/e)-np.exp(1/e))/(1-np.exp(1/e))\n",
    "    return F\n",
    "e = 1/100\n",
    "h = np.array([1/10, 1/20, 1/100])\n",
    "x1 = np.linspace(0, 1, 100)\n",
    "x2 = np.linspace(0, 1, 20)\n",
    "x3 = np.linspace(0, 1, 10)\n",
    "\n",
    "f1 = np.zeros(100)\n",
    "f1[0] = 1\n",
    "f2 = np.zeros(20)\n",
    "f2[0] = 1\n",
    "f3 = np.zeros(10)\n",
    "f3[0] = 1\n",
    "\n",
    "# The convection terms using the central difference scheme\n",
    "c1 = 1/(2*h[2])*np.diag(np.ones(99),k = 1)\n",
    "cc1 = -1/(2*h[2])*np.diag(np.ones(99), k = -1)\n",
    "\n",
    "c2 = 1/(2*h[1])*np.diag(np.ones(19), k = 1)\n",
    "cc2 = -1/(2*h[1])*np.diag(np.ones(19), k = -1)\n",
    "\n",
    "c3 = 1/(2*h[0])*np.diag(np.ones(9), k = 1)\n",
    "cc3 = -1/(2*h[0])*np.diag(np.ones(9), k = -1)\n",
    "\n",
    "# The diffusion terms used for the solution\n",
    "d1 = -e/(h[2]**2)*np.diag(np.ones(99), k = 1)\n",
    "dd1 = -e/(h[2]**2)*np.diag(np.ones(99), k = -1)\n",
    "ddd1 = 2*e/(h[2]**2)*np.diag(np.ones(100))\n",
    "\n",
    "d2 = -e/(h[1]**2)*np.diag(np.ones(19), k = 1)\n",
    "dd2 = -e/(h[1]**2)*np.diag(np.ones(19), k = -1)\n",
    "ddd2 = 2*e/(h[1]**2)*np.diag(np.ones(20))\n",
    "\n",
    "d3 = -e/(h[0]**2)*np.diag(np.ones(9), k = 1)\n",
    "dd3 = -e/(h[0]**2)*np.diag(np.ones(9), k = -1)\n",
    "ddd3 = 2*e/(h[0]**2)*np.diag(np.ones(10))\n",
    "\n",
    "# The global matrices\n",
    "A1 = c1 + cc1 + d1 + dd1 + ddd1\n",
    "A1[0,0] = 1\n",
    "A1[0,1] = 0\n",
    "A1[-1,-1] = 1\n",
    "A1[-1,-2] = 0\n",
    "\n",
    "A2 = c2 + cc2 + d2 + dd2 + ddd2\n",
    "A2[0,0] = 1\n",
    "A2[0,1] = 0\n",
    "A2[-1,-1] = 1\n",
    "A2[-1,-2] = 0\n",
    "\n",
    "A3 = c3 + cc3  + d3 + dd3 + ddd3\n",
    "A3[0,0] = 1\n",
    "A3[0,1] = 0\n",
    "A3[-1,-1] = 1\n",
    "A3[-1,-2] = 0\n",
    "\n",
    "# Lastly I plot the functions\n",
    "plt.figure()\n",
    "plt.plot(x1, u(x1), label = 'Exact solution')\n",
    "plt.plot(x1, np.linalg.solve(A1,f1), '.', label = 'N = 100')\n",
    "plt.plot(x2, np.linalg.solve(A2,f2), '.', label = 'N = 20')\n",
    "plt.plot(x3, np.linalg.solve(A3,f3), '.', label = 'N = 10')\n",
    "plt.title('Solution u(x) using the central difference scheme approximation for the convective term')\n",
    "plt.xlabel('x')\n",
    "plt.ylabel('u(x)')\n",
    "plt.legend(loc=3)\n",
    "\n",
    "print('The higher the N-value the more similar to the exact solution the approximation becomes')"
   ]
  },
  {
   "cell_type": "markdown",
   "id": "0175130b",
   "metadata": {},
   "source": [
    "#### Assignment 5\n",
    "\n",
    "As in the previous assignment, but this time using the upwind scheme to approximate the convective term in $(1)$."
   ]
  },
  {
   "cell_type": "code",
   "execution_count": 7,
   "id": "9428b7e9",
   "metadata": {},
   "outputs": [
    {
     "data": {
      "text/plain": [
       "<matplotlib.legend.Legend at 0x7f80e9d832d0>"
      ]
     },
     "execution_count": 7,
     "metadata": {},
     "output_type": "execute_result"
    },
    {
     "data": {
      "image/png": "[encoded data removed]",
      "text/plain": [
       "<Figure size 432x288 with 1 Axes>"
      ]
     },
     "metadata": {
      "needs_background": "light"
     },
     "output_type": "display_data"
    }
   ],
   "source": [
    "# First I again define the necessary variables and the function\n",
    "def u(x):\n",
    "    F = (np.exp(x/e)-np.exp(1/e))/(1-np.exp(1/e))\n",
    "    return F\n",
    "e = 1/100\n",
    "h = np.array([1/10, 1/20, 1/100])\n",
    "x1 = np.linspace(0, 1, 100)\n",
    "x2 = np.linspace(0, 1, 20)\n",
    "x3 = np.linspace(0, 1, 10)\n",
    "\n",
    "f1 = np.zeros(100)\n",
    "f1[0] = 1\n",
    "f2 = np.zeros(20)\n",
    "f2[0] = 1\n",
    "f3 = np.zeros(10)\n",
    "f3[0] = 1\n",
    "\n",
    "# The convection terms using the upwind scheme\n",
    "c1 = 1/h[2]*np.diag(np.ones(100), k = 0)\n",
    "cc1 = -1/h[2]*np.diag(np.ones(99), k = -1)\n",
    "\n",
    "c2 = 1/h[1]*np.diag(np.ones(20), k = 0)\n",
    "cc2 = -1/h[1]*np.diag(np.ones(19), k = -1)\n",
    "\n",
    "c3 = 1/h[0]*np.diag(np.ones(10), k = 0)\n",
    "cc3 = -1/h[0]*np.diag(np.ones(9), k = -1)\n",
    "\n",
    "# The diffusion terms for the solution\n",
    "d1 = -e/(h[2]**2)*np.diag(np.ones(99), k = 1)\n",
    "dd1 = -e/(h[2]**2)*np.diag(np.ones(99), k = -1)\n",
    "ddd1 = 2*e/(h[2]**2)*np.diag(np.ones(100))\n",
    "\n",
    "d2 = -e/(h[1]**2)*np.diag(np.ones(19), k = 1)\n",
    "dd2 = -e/(h[1]**2)*np.diag(np.ones(19), k = -1)\n",
    "ddd2 = 2*e/(h[1]**2)*np.diag(np.ones(20))\n",
    "\n",
    "d3 = -e/(h[0]**2)*np.diag(np.ones(9), k = 1)\n",
    "dd3 = -e/(h[0]**2)*np.diag(np.ones(9), k = -1)\n",
    "ddd3 = 2*e/(h[0]**2)*np.diag(np.ones(10))\n",
    "\n",
    "# The global matrices\n",
    "A1 = c1 + cc1 + d1 + dd1 + ddd1\n",
    "A1[0,0] = 1\n",
    "A1[0,1] = 0\n",
    "A1[-1,-1] = 1\n",
    "A1[-1,-2] = 0\n",
    "\n",
    "A2 = c2 + cc2 + d2 + dd2 + ddd2\n",
    "A2[0,0] = 1\n",
    "A2[0,1] = 0\n",
    "A2[-1,-1] = 1\n",
    "A2[-1,-2] = 0\n",
    "\n",
    "A3 = c3 + cc3  + d3 + dd3 + ddd3\n",
    "A3[0,0] = 1\n",
    "A3[0,1] = 0\n",
    "A3[-1,-1] = 1\n",
    "A3[-1,-2] = 0\n",
    "\n",
    "# Lastly I plot the figures\n",
    "plt.figure()\n",
    "plt.plot(x1, u(x1), label = 'Exact solution')\n",
    "plt.plot(x1, np.linalg.solve(A1,f1), '.', label = 'N = 100')\n",
    "plt.plot(x2, np.linalg.solve(A2,f2), '.', label = 'N = 20')\n",
    "plt.plot(x3, np.linalg.solve(A3,f3), '.', label = 'N = 10')\n",
    "plt.title('Solution u(x) using the upwind scheme approximation for the convective term')\n",
    "plt.xlabel('x')\n",
    "plt.ylabel('u(x)')\n",
    "plt.legend()"
   ]
  },
  {
   "cell_type": "markdown",
   "id": "75044cd0",
   "metadata": {},
   "source": [
    "## Section 3/: Other Models "
   ]
  },
  {
   "cell_type": "markdown",
   "id": "8ae834db",
   "metadata": {},
   "source": [
    "More later. "
   ]
  },
  {
   "cell_type": "markdown",
   "id": "b81ec120",
   "metadata": {},
   "source": [
    "## References \n",
    "\n",
    "To be extended. \n",
    "\n",
    "1. [convection-diffusion equation on wiki](https://en.wikipedia.org/wiki/Convection–diffusion_equation)\n",
    "2. [2D Navier-Stokes Solved by pypde](https://pypde.readthedocs.io/en/latest/pages/example_code.html#navier-stokes-2d-parabolic)\n",
    "3. add references to NGSolve, Fenics and FireDrake among others; "
   ]
  },
  {
   "cell_type": "markdown",
   "id": "16e30ebc",
   "metadata": {},
   "source": []
  },
  {
   "cell_type": "code",
   "execution_count": null,
   "id": "1fb5a165",
   "metadata": {},
   "outputs": [],
   "source": []
  },
  {
   "cell_type": "code",
   "execution_count": null,
   "id": "1f5604af",
   "metadata": {},
   "outputs": [],
   "source": []
  }
 ],
 "metadata": {
  "kernelspec": {
   "display_name": "Python 3",
   "language": "python",
   "name": "python3"
  },
  "language_info": {
   "codemirror_mode": {
    "name": "ipython",
    "version": 3
   },
   "file_extension": ".py",
   "mimetype": "text/x-python",
   "name": "python",
   "nbconvert_exporter": "python",
   "pygments_lexer": "ipython3",
   "version": "3.7.10"
  }
 },
 "nbformat": 4,
 "nbformat_minor": 5
}
