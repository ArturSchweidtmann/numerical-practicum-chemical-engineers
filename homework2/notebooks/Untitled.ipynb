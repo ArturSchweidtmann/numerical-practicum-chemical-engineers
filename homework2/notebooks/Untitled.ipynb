{
 "cells": [
  {
   "cell_type": "code",
   "execution_count": 1,
   "id": "56f6faaa",
   "metadata": {},
   "outputs": [],
   "source": [
    "import numpy as np\n",
    "import eikonalfm\n",
    "\n",
    "c = np.ones((100, 100))\n",
    "x_s = (0, 0)\n",
    "dx = (1.0, 1.0)\n",
    "order = 2\n",
    "\n",
    "tau_fm = eikonalfm.fast_marching(c, x_s, dx, order)\n",
    "tau1_ffm = eikonalfm.factored_fast_marching(c, x_s, dx, order)"
   ]
  },
  {
   "cell_type": "code",
   "execution_count": 2,
   "id": "d29535f5",
   "metadata": {},
   "outputs": [
    {
     "data": {
      "image/png": "[encoded data removed]",
      "text/plain": [
       "<Figure size 432x288 with 1 Axes>"
      ]
     },
     "metadata": {
      "needs_background": "light"
     },
     "output_type": "display_data"
    }
   ],
   "source": [
    "import matplotlib.pyplot as plt\n",
    "\n",
    "# for the distance-function 'x_s' describes real coordinates\n",
    "tau0 = eikonalfm.distance(tau1_ffm.shape, dx, x_s)\n",
    "plt.contourf(tau0 * tau1_ffm)\n",
    "plt.show()"
   ]
  },
  {
   "cell_type": "code",
   "execution_count": null,
   "id": "f0564df0",
   "metadata": {},
   "outputs": [],
   "source": []
  }
 ],
 "metadata": {
  "kernelspec": {
   "display_name": "Python 3",
   "language": "python",
   "name": "python3"
  },
  "language_info": {
   "codemirror_mode": {
    "name": "ipython",
    "version": 3
   },
   "file_extension": ".py",
   "mimetype": "text/x-python",
   "name": "python",
   "nbconvert_exporter": "python",
   "pygments_lexer": "ipython3",
   "version": "3.7.10"
  }
 },
 "nbformat": 4,
 "nbformat_minor": 5
}
