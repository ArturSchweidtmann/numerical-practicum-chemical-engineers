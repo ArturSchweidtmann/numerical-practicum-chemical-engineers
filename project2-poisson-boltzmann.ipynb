{
 "cells": [
  {
   "cell_type": "markdown",
   "metadata": {},
   "source": [
    "# Project-2: Solving the Poisson-Boltzman Equation "
   ]
  },
  {
   "cell_type": "markdown",
   "metadata": {},
   "source": [
    "What is our goal?\n",
    "\n",
    "Our goal is to solve the Poisson-Boltzman equation numerically. \n",
    "\n",
    "We expect to go throught the following stages:\n",
    "\n",
    "1. spatial discretization of the linear diffusion operator using second order central finite differences on uniform meshes in 1D and 2D subject to various boundary conditions; \n",
    "2. spatial discretization of the non-linear reaction terms by collocation;\n",
    "3. linearization by computating exact Jacobians (or otherwise);\n",
    "4. root finding using Newton-type method with accuracy imposed by tolerances (or use-time integration to resolve the non-linearity);\n",
    "\n",
    "Domenico expects that the introduction of automatic differentiation to compute the Jacobian is likely to simplify the overall solution procedure and unlock new simulation possibilities. "
   ]
  },
  {
   "cell_type": "markdown",
   "metadata": {},
   "source": [
    "## Import Libraries"
   ]
  },
  {
   "cell_type": "code",
   "execution_count": 1,
   "metadata": {},
   "outputs": [
    {
     "name": "stdout",
     "output_type": "stream",
     "text": [
      "Succesfully imported numpy -- Version: 1.20.1\n",
      "Succesfully imported scipy -- Version: 1.6.2\n",
      "Succesfully imported matplotlib.pyplot\n",
      "Succesfully imported pandas -- Version: 1.2.4\n",
      "Succesfully imported sympy -- Version: 1.8\n",
      "Succesfully imported scipy.optimize\n",
      "Succesfully imported fsolve\n",
      "Succesfully imported find_peaks\n",
      "Succesfully imported orth\n",
      "Succesfully imported odeint\n"
     ]
    }
   ],
   "source": [
    "import numpy as np\n",
    "print(\"Succesfully imported %s -- Version: %s\"%(np.__name__,np.__version__))\n",
    "import scipy\n",
    "print(\"Succesfully imported %s -- Version: %s\"%(scipy.__name__,scipy.__version__))\n",
    "import matplotlib.pyplot as plt\n",
    "print(\"Succesfully imported %s\"%plt.__name__)\n",
    "import pandas as pd\n",
    "print(\"Succesfully imported %s -- Version: %s\"%(pd.__name__,pd.__version__))\n",
    "import sympy as sym \n",
    "print(\"Succesfully imported %s -- Version: %s\"%(sym.__name__,sym.__version__))\n",
    "from scipy import optimize\n",
    "print(\"Succesfully imported %s\"%optimize.__name__)\n",
    "from scipy.optimize import fsolve\n",
    "print(\"Succesfully imported %s\"%fsolve.__name__)\n",
    "from scipy.signal import find_peaks\n",
    "print(\"Succesfully imported %s\"%find_peaks.__name__)\n",
    "from scipy.linalg import orth\n",
    "print(\"Succesfully imported %s\"%orth.__name__)\n",
    "from scipy.integrate import odeint\n",
    "print(\"Succesfully imported %s\"%odeint.__name__)"
   ]
  },
  {
   "cell_type": "markdown",
   "metadata": {},
   "source": [
    "## Section 1/: Introduction and Model Description "
   ]
  },
  {
   "cell_type": "markdown",
   "metadata": {},
   "source": [
    "Describe the Poisson-Boltzmann equation and reference solutions. For simplified cases, analytical solutions seem to be available (Ref 15 and Ref 16 on the wiki page [wiki on the Poisson-Boltzmann](https://en.wikipedia.org/wiki/Poisson–Boltzmann_equation)). These analytical solutions provide a reference for the numerical computations. Possibly the analytical solutions can be generated using symbolic computations using the sympy.dsolve() function with the bcs option to specify the boundary condtions. "
   ]
  },
  {
   "cell_type": "markdown",
   "metadata": {},
   "source": [
    "## Section 2/:  Linear Model in 1D "
   ]
  },
  {
   "cell_type": "markdown",
   "metadata": {},
   "source": [
    "Model can be linearized by evaluating the non-linear terms in a assumed previously computed solution. \n",
    "\n",
    "Three solution approaches are available. \n",
    "\n",
    "First approach: symbolically using the sympy.dsolve() function with the bcs option to specify the boundary condtions; \n",
    "\n",
    "Second approach: numerically using the scipy.integrate.solve_bvp() following the examples on [examples on sol ve_bvp for boundary value problems](https://docs.scipy.org/doc/scipy/reference/generated/scipy.integrate.solve_bvp.html)\n",
    "\n",
    "Third approach: add diagonal term to Poisson-1D matrix, perform linear system solve and plot solution. Copy-paste 1D-Poisson matrix here from Python intro ANM-2021. "
   ]
  },
  {
   "cell_type": "code",
   "execution_count": null,
   "metadata": {},
   "outputs": [],
   "source": [
    "N = 4; h=1/N; h2=h*h; xvec = np.linspace(0,1,N+1);\n",
    "e = np.ones(N+1); \n",
    "A = np.diag(-e[:-1],k=1)+np.diag(2*e)+np.diag(-e[:-1],k=-1); # tridiagonal matrix \n",
    "A = (1/h2)*A; \n",
    "A[0][0]=1; A[0][1]=0;     # handling left-most boundary condition \n",
    "A[-1][-1]=2/h2; A[-1][-2]=-2/h2; # handling right-most Neumann boundary condition \n",
    "#A[-1][-1]=1; A[-1][-2]=0; # handling right-most Dirichlet boundary condition\n",
    "print(A); #print(xvec)"
   ]
  },
  {
   "cell_type": "markdown",
   "metadata": {},
   "source": [
    "## Section 3/: Non-Linear Model in 1D"
   ]
  },
  {
   "cell_type": "markdown",
   "metadata": {},
   "source": [
    "Extend above to non-linear using exact Jacobian and Newton iteration or time-stepping.  \n",
    "\n",
    "Three solution approaches are available. \n",
    "\n",
    "First approach: symbolically using the sympy.dsolve() function with the bcs option to specify the boundary condtions (as above); \n",
    "\n",
    "Second approach: numerically using the scipy.integrate.solve_bvp() following the examples on [examples on sol ve_bvp for boundary value problems](https://docs.scipy.org/doc/scipy/reference/generated/scipy.integrate.solve_bvp.html) (as above) \n",
    "\n",
    "Third approach: add non-linear term to Poisson-1D matrix, perform non-linear system solve."
   ]
  },
  {
   "cell_type": "markdown",
   "metadata": {},
   "source": [
    "## Section 4/: Linear Model in 2D "
   ]
  },
  {
   "cell_type": "markdown",
   "metadata": {},
   "source": [
    "Add diagonal term to Poisson-1D matrix, perform linear system solve and plot solution. Copy-paste 2D-Poisson matrix here from Python intro ANM-2021."
   ]
  },
  {
   "cell_type": "markdown",
   "metadata": {},
   "source": [
    "##  Section 5/: Non-Linear Model in 2D "
   ]
  },
  {
   "cell_type": "markdown",
   "metadata": {},
   "source": []
  },
  {
   "cell_type": "markdown",
   "metadata": {},
   "source": [
    "## References"
   ]
  },
  {
   "cell_type": "markdown",
   "metadata": {},
   "source": [
    "References\n",
    "\n",
    "1. [wiki on the Poisson-Boltzmann](https://en.wikipedia.org/wiki/Poisson–Boltzmann_equation)"
   ]
  },
  {
   "cell_type": "code",
   "execution_count": null,
   "metadata": {},
   "outputs": [],
   "source": []
  }
 ],
 "metadata": {
  "kernelspec": {
   "display_name": "Python 3",
   "language": "python",
   "name": "python3"
  },
  "language_info": {
   "codemirror_mode": {
    "name": "ipython",
    "version": 3
   },
   "file_extension": ".py",
   "mimetype": "text/x-python",
   "name": "python",
   "nbconvert_exporter": "python",
   "pygments_lexer": "ipython3",
   "version": "3.7.10"
  }
 },
 "nbformat": 4,
 "nbformat_minor": 2
}
