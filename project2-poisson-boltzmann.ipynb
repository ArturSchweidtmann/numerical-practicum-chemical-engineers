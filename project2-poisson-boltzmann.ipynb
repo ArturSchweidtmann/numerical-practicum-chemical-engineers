{
 "cells": [
  {
   "cell_type": "markdown",
   "metadata": {},
   "source": [
    "# Project-2: Solving the Poisson-Boltzman Equation "
   ]
  },
  {
   "cell_type": "markdown",
   "metadata": {},
   "source": [
    "### System of two non-linear equations"
   ]
  },
  {
   "cell_type": "code",
   "execution_count": 1,
   "metadata": {},
   "outputs": [
    {
     "data": {
      "text/plain": [
       "Results of Nonlinear Solver Algorithm\n",
       " * Algorithm: Trust-region with dogleg and autoscaling\n",
       " * Starting Point: [0.1, 1.2]\n",
       " * Zero: [-3.7818e-16, 1.0]\n",
       " * Inf-norm of residuals: 0.000000\n",
       " * Iterations: 4\n",
       " * Convergence: true\n",
       "   * |x - x'| < 0.0e+00: false\n",
       "   * |f(x)| < 1.0e-08: true\n",
       " * Function Calls (f): 5\n",
       " * Jacobian Calls (df/dx): 5"
      ]
     },
     "execution_count": 1,
     "metadata": {},
     "output_type": "execute_result"
    }
   ],
   "source": [
    "using NLsolve\n",
    "\n",
    "function f!(F, x)\n",
    "    F[1] = (x[1]+3)*(x[2]^3-7)+18\n",
    "    F[2] = sin(x[2]*exp(x[1])-1)\n",
    "end\n",
    "\n",
    "function j!(J, x)\n",
    "    J[1, 1] = x[2]^3-7\n",
    "    J[1, 2] = 3*x[2]^2*(x[1]+3)\n",
    "    u = exp(x[1])*cos(x[2]*exp(x[1])-1)\n",
    "    J[2, 1] = x[2]*u\n",
    "    J[2, 2] = u\n",
    "end\n",
    "\n",
    "nlsolve(f!, j!, [ 0.1; 1.2])"
   ]
  },
  {
   "cell_type": "markdown",
   "metadata": {},
   "source": [
    "### System of three linear equations"
   ]
  },
  {
   "cell_type": "code",
   "execution_count": null,
   "metadata": {},
   "outputs": [],
   "source": []
  },
  {
   "cell_type": "code",
   "execution_count": 7,
   "metadata": {
    "scrolled": true
   },
   "outputs": [
    {
     "data": {
      "text/plain": [
       "Results of Nonlinear Solver Algorithm\n",
       " * Algorithm: Trust-region with dogleg and autoscaling\n",
       " * Starting Point: [1.0, 1.0, 1.0]\n",
       " * Zero: [0.0, 0.535898, 1.0]\n",
       " * Inf-norm of residuals: 0.000000\n",
       " * Iterations: 8\n",
       " * Convergence: true\n",
       "   * |x - x'| < 0.0e+00: false\n",
       "   * |f(x)| < 1.0e-08: true\n",
       " * Function Calls (f): 9\n",
       " * Jacobian Calls (df/dx): 9"
      ]
     },
     "execution_count": 7,
     "metadata": {},
     "output_type": "execute_result"
    }
   ],
   "source": [
    "using NLsolve\n",
    "\n",
    "function f!(F, x)\n",
    "    F[1] = x[1]-0\n",
    "    F[2] = 4*x[1]-8*x[2]+4*x[3] + x[2]*x[2]\n",
    "    F[3] = x[3]-1\n",
    "end\n",
    "\n",
    "function j!(J, x)\n",
    "    J[1, 1] = 1\n",
    "    J[1, 2] = 0\n",
    "    J[1, 3] = 0\n",
    "    J[2, 1] = 4\n",
    "    J[2, 2] = -8 + x[2]\n",
    "    J[2, 3] = 4 \n",
    "    J[3, 1] = 0 \n",
    "    J[3, 2] = 0\n",
    "    J[3, 3] = 1\n",
    "end\n",
    "\n",
    "nlsolve(f!, j!, [ 1.; 1. ; 1.])"
   ]
  },
  {
   "cell_type": "markdown",
   "metadata": {},
   "source": [
    "## System with many unknowns from discourse"
   ]
  },
  {
   "cell_type": "markdown",
   "metadata": {},
   "source": [
    "The example that follows was taken from [https://discourse.julialang.org/t/correct-use-of-the-sparsity-pattern-in-nlsolve-jl-for-diagonal-jacobians/43469] . In this example, the Jacobian is diagonal and computed analytically. "
   ]
  },
  {
   "cell_type": "code",
   "execution_count": 4,
   "metadata": {},
   "outputs": [
    {
     "data": {
      "text/plain": [
       "Results of Nonlinear Solver Algorithm\n",
       " * Algorithm: Newton with line-search\n",
       " * Starting Point: [0.42763083949335656, 0.7443300066041312, 0.9487526292345498, 0.8710385079998757, 0.9974234850269958, 0.06265105653918313, 0.46595920639015387, 0.629224859060509, 0.6347382091329619, 0.7208091418492224]\n",
       " * Zero: [0.0, -10.974479854497067, -10.767607940296372, -15.256373327103237, -13.641530100343765, 0.0, 0.0, 0.0, 0.0, 0.0]\n",
       " * Inf-norm of residuals: 0.000000\n",
       " * Iterations: 18\n",
       " * Convergence: true\n",
       "   * |x - x'| < 0.0e+00: false\n",
       "   * |f(x)| < 1.0e-08: true\n",
       " * Function Calls (f): 19\n",
       " * Jacobian Calls (df/dx): 19"
      ]
     },
     "execution_count": 4,
     "metadata": {},
     "output_type": "execute_result"
    }
   ],
   "source": [
    "using SparseArrays\n",
    "using NLsolve\n",
    "using SpecialFunctions\n",
    "\n",
    "Ne = 10\n",
    "\n",
    "function f_sparse!(F, x)\n",
    "    @inbounds for (i, xi) in enumerate(x)\n",
    "        F[i] = exp(-xi^2/(2*i))*erf(xi)\n",
    "    end \n",
    "end\n",
    "\n",
    "function g_sparse!(J, x)\n",
    "    @inbounds for (i, xi) in enumerate(x)\n",
    "        J[i,i] = (-xi/i)*exp(-xi^2/(2*i))*erf(xi) + exp(-xi^2/(2*i))*(2/√π)*exp(-xi^2)\n",
    "    end \n",
    "end\n",
    "\n",
    "df = OnceDifferentiable(f_sparse!, g_sparse!, randn(Ne), rand(Ne), spzeros(Ne, Ne))\n",
    "\n",
    "F = rand(Ne);\n",
    "\n",
    "r = nlsolve(df, F, method = :newton);\n",
    "\n",
    "r"
   ]
  },
  {
   "cell_type": "markdown",
   "metadata": {},
   "source": [
    "## Vector-Valued Example: PDE discretized on coarse spatial mesh"
   ]
  },
  {
   "cell_type": "code",
   "execution_count": null,
   "metadata": {},
   "outputs": [],
   "source": [
    "h = 1/3; h2 = h*h;\n",
    "h = 1; h2 = h*h;\n",
    "#..observe that matrix is zero is first and last row to preserve the boundary conditions \n",
    "A = [0. 0 0 0; 1/h2 -2/h2 1/h2 0; 0 1/h2 -2/h2 1/h2; 0 0 0 0.]\n",
    "\n",
    "function wave_system!(du,u,p,t)\n",
    "    du = A*u \n",
    "end\n",
    "\n",
    "#..fix initial velocities\n",
    "v0 = zeros(4,1)\n",
    "v0[2]=1; v0[3]=-1; \n",
    "\n",
    "#..fix initial positions \n",
    "u0 = zeros(4,1); \n",
    "u0[1]=0; u0[2]=2; u0[3]=2; u0[4]=1;\n",
    "\n",
    "tspan = (0.0,2.0)               \n",
    "\n",
    "prob = SecondOrderODEProblem(wave_system!,v0,u0,tspan)\n",
    "sol = solve(prob,DPRKN6(),reltol=1e-8,abstol=1e-8)\n",
    "\n",
    "plot(sol,vars=5,label=\"Pos-1\")\n",
    "p1=plot!(sol,vars=8,label=\"Pos-4\")\n",
    "\n",
    "plot(sol,vars=6,label=\"Pos-2\")\n",
    "p2=plot!(sol,vars=7,label=\"Pos-3\")\n",
    "\n",
    "plot(p1,p2,layout=(2,1))"
   ]
  }
 ],
 "metadata": {
  "kernelspec": {
   "display_name": "Julia 1.6.2",
   "language": "julia",
   "name": "julia-1.6"
  },
  "language_info": {
   "file_extension": ".jl",
   "mimetype": "application/julia",
   "name": "julia",
   "version": "1.6.2"
  }
 },
 "nbformat": 4,
 "nbformat_minor": 2
}
