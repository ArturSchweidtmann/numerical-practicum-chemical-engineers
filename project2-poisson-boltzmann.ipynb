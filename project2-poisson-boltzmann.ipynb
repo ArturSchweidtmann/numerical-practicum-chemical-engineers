{
 "cells": [
  {
   "cell_type": "markdown",
   "metadata": {},
   "source": [
    "# Project-2: Solving the Poisson-Boltzman Equation "
   ]
  },
  {
   "cell_type": "markdown",
   "metadata": {},
   "source": [
    "What is our goal?\n",
    "\n",
    "Our goal is to solve the Poisson-Boltzman equation numerically. \n",
    "\n",
    "We expect to go throught the following stages:\n",
    "\n",
    "1. spatial discretization of the linear diffusion operator using second order central finite differences on uniform meshes in 1D and 2D subject to various boundary conditions; \n",
    "2. spatial discretization of the non-linear reaction terms by collocation;\n",
    "3. linearization by computating exact Jacobians (or otherwise);\n",
    "4. root finding using Newton-type method with accuracy imposed by tolerances (or use-time integration to resolve the non-linearity);\n",
    "\n",
    "Domenico expects that the introduction of automatic differentiation to compute the Jacobian is likely to simplify the overall solution procedure and unlock new simulation possibilities. "
   ]
  },
  {
   "cell_type": "markdown",
   "metadata": {},
   "source": [
    "## Section 1/: Introduction and Model Description "
   ]
  },
  {
   "cell_type": "markdown",
   "metadata": {},
   "source": [
    "Describe the Poisson-Boltzmann equation and reference solutions. For simplified cases, analytical solutions seem to be available (Ref 15 and Ref 16 on the wiki page [wiki on the Poisson-Boltzmann](https://en.wikipedia.org/wiki/Poisson–Boltzmann_equation)). These analytical solutions provide a reference for the numerical computations. Possibly the analytical solutions can be generated using symbolic computations using the sympy.dsolve() function with the bcs option to specify the boundary condtions. "
   ]
  },
  {
   "cell_type": "markdown",
   "metadata": {},
   "source": [
    "## Section 2/:  Linear Model in 1D "
   ]
  },
  {
   "cell_type": "markdown",
   "metadata": {},
   "source": [
    "Model can be linearized by evaluating the non-linear terms in a assumed previously computed solution. \n",
    "\n",
    "Three solution approaches are available. \n",
    "\n",
    "First approach: symbolically using the sympy.dsolve() function with the bcs option to specify the boundary condtions; \n",
    "\n",
    "Second approach: numerically using the scipy.integrate.solve_bvp() following the examples on [examples on sol ve_bvp for boundary value problems](https://docs.scipy.org/doc/scipy/reference/generated/scipy.integrate.solve_bvp.html)\n",
    "\n",
    "Third approach: add diagonal term to Poisson-1D matrix, perform linear system solve and plot solution. Copy-paste 1D-Poisson matrix here from Python intro ANM-2021. "
   ]
  },
  {
   "cell_type": "markdown",
   "metadata": {},
   "source": [
    "## Section 3/: Non-Linear Model in 1D"
   ]
  },
  {
   "cell_type": "markdown",
   "metadata": {},
   "source": [
    "Extend above to non-linear using exact Jacobian and Newton iteration or time-stepping.  \n",
    "\n",
    "Three solution approaches are available. \n",
    "\n",
    "First approach: symbolically using the sympy.dsolve() function with the bcs option to specify the boundary condtions (as above); \n",
    "\n",
    "Second approach: numerically using the scipy.integrate.solve_bvp() following the examples on [examples on sol ve_bvp for boundary value problems](https://docs.scipy.org/doc/scipy/reference/generated/scipy.integrate.solve_bvp.html) (as above) \n",
    "\n",
    "Third approach: add non-linear term to Poisson-1D matrix, perform non-linear system solve."
   ]
  },
  {
   "cell_type": "markdown",
   "metadata": {},
   "source": [
    "## Section 4/: Linear Model in 2D "
   ]
  },
  {
   "cell_type": "markdown",
   "metadata": {},
   "source": [
    "Add diagonal term to Poisson-1D matrix, perform linear system solve and plot solution. Copy-paste 2D-Poisson matrix here from Python intro ANM-2021."
   ]
  },
  {
   "cell_type": "markdown",
   "metadata": {},
   "source": [
    "##  Section 5/: Non-Linear Model in 2D "
   ]
  },
  {
   "cell_type": "markdown",
   "metadata": {},
   "source": []
  },
  {
   "cell_type": "markdown",
   "metadata": {},
   "source": [
    "## References"
   ]
  },
  {
   "cell_type": "markdown",
   "metadata": {},
   "source": [
    "References\n",
    "\n",
    "1. [wiki on the Poisson-Boltzmann](https://en.wikipedia.org/wiki/Poisson–Boltzmann_equation)"
   ]
  },
  {
   "cell_type": "code",
   "execution_count": null,
   "metadata": {},
   "outputs": [],
   "source": []
  }
 ],
 "metadata": {
  "kernelspec": {
   "display_name": "Julia 1.6.2",
   "language": "julia",
   "name": "julia-1.6"
  },
  "language_info": {
   "file_extension": ".jl",
   "mimetype": "application/julia",
   "name": "julia",
   "version": "1.6.2"
  }
 },
 "nbformat": 4,
 "nbformat_minor": 2
}
